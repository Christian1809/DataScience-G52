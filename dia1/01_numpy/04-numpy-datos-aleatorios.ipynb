{
 "cells": [
  {
   "cell_type": "markdown",
   "metadata": {
    "id": "yWDIFR_5xbYs"
   },
   "source": [
    "# GENERACIÓN DE DATOS ALEATORIOS CON NUMPY"
   ]
  },
  {
   "cell_type": "code",
   "execution_count": 1,
   "metadata": {
    "executionInfo": {
     "elapsed": 9,
     "status": "ok",
     "timestamp": 1761620630258,
     "user": {
      "displayName": "Cesar Cuela",
      "userId": "12195114202184066508"
     },
     "user_tz": 300
    },
    "id": "mm96KpDMxKBd"
   },
   "outputs": [],
   "source": [
    "import numpy as np"
   ]
  },
  {
   "cell_type": "markdown",
   "metadata": {
    "id": "3TLqUC8exeff"
   },
   "source": [
    "# ARANGE"
   ]
  },
  {
   "cell_type": "code",
   "execution_count": null,
   "metadata": {
    "colab": {
     "base_uri": "https://localhost:8080/"
    },
    "executionInfo": {
     "elapsed": 17,
     "status": "ok",
     "timestamp": 1761620668923,
     "user": {
      "displayName": "Cesar Cuela",
      "userId": "12195114202184066508"
     },
     "user_tz": 300
    },
    "id": "iSw3RJ6Lxf7v",
    "outputId": "1cec2b8b-cda8-41dc-bebf-1717d2df5154"
   },
   "outputs": [],
   "source": [
    "np.arange(0,20,2)"
   ]
  },
  {
   "cell_type": "code",
   "execution_count": 3,
   "metadata": {
    "colab": {
     "base_uri": "https://localhost:8080/"
    },
    "executionInfo": {
     "elapsed": 42,
     "status": "ok",
     "timestamp": 1761620689890,
     "user": {
      "displayName": "Cesar Cuela",
      "userId": "12195114202184066508"
     },
     "user_tz": 300
    },
    "id": "vNulQUCvxk6W",
    "outputId": "70c4d13c-5150-4939-e1c0-b510b6e01ec0"
   },
   "outputs": [
    {
     "data": {
      "text/plain": [
       "array([ 0,  1,  2,  3,  4,  5,  6,  7,  8,  9, 10, 11, 12, 13, 14, 15, 16,\n",
       "       17, 18, 19, 20, 21, 22, 23, 24, 25, 26, 27, 28, 29, 30, 31, 32, 33,\n",
       "       34, 35, 36, 37, 38, 39, 40, 41, 42, 43, 44, 45, 46, 47, 48, 49, 50,\n",
       "       51, 52, 53, 54, 55, 56, 57, 58, 59, 60, 61, 62, 63, 64, 65, 66, 67,\n",
       "       68, 69, 70, 71, 72, 73, 74, 75, 76, 77, 78, 79, 80, 81, 82, 83, 84,\n",
       "       85, 86, 87, 88, 89, 90, 91, 92, 93, 94, 95, 96, 97, 98, 99])"
      ]
     },
     "execution_count": 3,
     "metadata": {},
     "output_type": "execute_result"
    }
   ],
   "source": [
    "np.arange(100)"
   ]
  },
  {
   "cell_type": "markdown",
   "metadata": {
    "id": "XEIfnhk0xqg_"
   },
   "source": [
    "# ZEROS"
   ]
  },
  {
   "cell_type": "code",
   "execution_count": 4,
   "metadata": {
    "colab": {
     "base_uri": "https://localhost:8080/"
    },
    "executionInfo": {
     "elapsed": 15,
     "status": "ok",
     "timestamp": 1761620712958,
     "user": {
      "displayName": "Cesar Cuela",
      "userId": "12195114202184066508"
     },
     "user_tz": 300
    },
    "id": "Y9QHBMnExps3",
    "outputId": "7ae31cca-de54-4247-ee60-3facc167d578"
   },
   "outputs": [
    {
     "data": {
      "text/plain": [
       "array([[0., 0., 0.],\n",
       "       [0., 0., 0.],\n",
       "       [0., 0., 0.]])"
      ]
     },
     "execution_count": 4,
     "metadata": {},
     "output_type": "execute_result"
    }
   ],
   "source": [
    "np.zeros((3,3))"
   ]
  },
  {
   "cell_type": "markdown",
   "metadata": {
    "id": "4cSCsiPpxvqn"
   },
   "source": [
    "# ONES"
   ]
  },
  {
   "cell_type": "code",
   "execution_count": 5,
   "metadata": {
    "colab": {
     "base_uri": "https://localhost:8080/"
    },
    "executionInfo": {
     "elapsed": 17,
     "status": "ok",
     "timestamp": 1761620736673,
     "user": {
      "displayName": "Cesar Cuela",
      "userId": "12195114202184066508"
     },
     "user_tz": 300
    },
    "id": "AoGdDwL7xxaf",
    "outputId": "80690cea-9a9c-499b-981b-7bef73efd2a7"
   },
   "outputs": [
    {
     "data": {
      "text/plain": [
       "array([[1., 1., 1., 1., 1.],\n",
       "       [1., 1., 1., 1., 1.],\n",
       "       [1., 1., 1., 1., 1.],\n",
       "       [1., 1., 1., 1., 1.],\n",
       "       [1., 1., 1., 1., 1.],\n",
       "       [1., 1., 1., 1., 1.],\n",
       "       [1., 1., 1., 1., 1.],\n",
       "       [1., 1., 1., 1., 1.],\n",
       "       [1., 1., 1., 1., 1.],\n",
       "       [1., 1., 1., 1., 1.]])"
      ]
     },
     "execution_count": 5,
     "metadata": {},
     "output_type": "execute_result"
    }
   ],
   "source": [
    "np.ones((10,5))"
   ]
  },
  {
   "cell_type": "markdown",
   "metadata": {
    "id": "pk3iNuXpx085"
   },
   "source": [
    "# EYE"
   ]
  },
  {
   "cell_type": "code",
   "execution_count": 6,
   "metadata": {
    "colab": {
     "base_uri": "https://localhost:8080/"
    },
    "executionInfo": {
     "elapsed": 16,
     "status": "ok",
     "timestamp": 1761620759244,
     "user": {
      "displayName": "Cesar Cuela",
      "userId": "12195114202184066508"
     },
     "user_tz": 300
    },
    "id": "9PC-z0Xyx3Q3",
    "outputId": "fd3f3947-0766-4907-9c31-36e743eb9f84"
   },
   "outputs": [
    {
     "data": {
      "text/plain": [
       "array([[1., 0., 0., 0.],\n",
       "       [0., 1., 0., 0.],\n",
       "       [0., 0., 1., 0.],\n",
       "       [0., 0., 0., 1.]])"
      ]
     },
     "execution_count": 6,
     "metadata": {},
     "output_type": "execute_result"
    }
   ],
   "source": [
    "np.eye(4)"
   ]
  },
  {
   "cell_type": "markdown",
   "metadata": {
    "id": "4X3mZrybx9aF"
   },
   "source": [
    "# LINSPACE"
   ]
  },
  {
   "cell_type": "code",
   "execution_count": 7,
   "metadata": {
    "colab": {
     "base_uri": "https://localhost:8080/"
    },
    "executionInfo": {
     "elapsed": 9,
     "status": "ok",
     "timestamp": 1761620796825,
     "user": {
      "displayName": "Cesar Cuela",
      "userId": "12195114202184066508"
     },
     "user_tz": 300
    },
    "id": "nYyxcaVsx_gN",
    "outputId": "9fde8898-8406-49b3-fc83-887f0ea84a8c"
   },
   "outputs": [
    {
     "data": {
      "text/plain": [
       "array([ 0.        ,  0.1010101 ,  0.2020202 ,  0.3030303 ,  0.4040404 ,\n",
       "        0.50505051,  0.60606061,  0.70707071,  0.80808081,  0.90909091,\n",
       "        1.01010101,  1.11111111,  1.21212121,  1.31313131,  1.41414141,\n",
       "        1.51515152,  1.61616162,  1.71717172,  1.81818182,  1.91919192,\n",
       "        2.02020202,  2.12121212,  2.22222222,  2.32323232,  2.42424242,\n",
       "        2.52525253,  2.62626263,  2.72727273,  2.82828283,  2.92929293,\n",
       "        3.03030303,  3.13131313,  3.23232323,  3.33333333,  3.43434343,\n",
       "        3.53535354,  3.63636364,  3.73737374,  3.83838384,  3.93939394,\n",
       "        4.04040404,  4.14141414,  4.24242424,  4.34343434,  4.44444444,\n",
       "        4.54545455,  4.64646465,  4.74747475,  4.84848485,  4.94949495,\n",
       "        5.05050505,  5.15151515,  5.25252525,  5.35353535,  5.45454545,\n",
       "        5.55555556,  5.65656566,  5.75757576,  5.85858586,  5.95959596,\n",
       "        6.06060606,  6.16161616,  6.26262626,  6.36363636,  6.46464646,\n",
       "        6.56565657,  6.66666667,  6.76767677,  6.86868687,  6.96969697,\n",
       "        7.07070707,  7.17171717,  7.27272727,  7.37373737,  7.47474747,\n",
       "        7.57575758,  7.67676768,  7.77777778,  7.87878788,  7.97979798,\n",
       "        8.08080808,  8.18181818,  8.28282828,  8.38383838,  8.48484848,\n",
       "        8.58585859,  8.68686869,  8.78787879,  8.88888889,  8.98989899,\n",
       "        9.09090909,  9.19191919,  9.29292929,  9.39393939,  9.49494949,\n",
       "        9.5959596 ,  9.6969697 ,  9.7979798 ,  9.8989899 , 10.        ])"
      ]
     },
     "execution_count": 7,
     "metadata": {},
     "output_type": "execute_result"
    }
   ],
   "source": [
    "np.linspace(0,10,100)"
   ]
  },
  {
   "cell_type": "markdown",
   "metadata": {
    "id": "ctHF5RN3yHc1"
   },
   "source": [
    "# RANDOM"
   ]
  },
  {
   "cell_type": "code",
   "execution_count": 11,
   "metadata": {
    "colab": {
     "base_uri": "https://localhost:8080/"
    },
    "executionInfo": {
     "elapsed": 8,
     "status": "ok",
     "timestamp": 1761620835476,
     "user": {
      "displayName": "Cesar Cuela",
      "userId": "12195114202184066508"
     },
     "user_tz": 300
    },
    "id": "8e500fFdyJHh",
    "outputId": "024d0b99-a458-4ed9-cfe5-05fd52ea2d6d"
   },
   "outputs": [
    {
     "data": {
      "text/plain": [
       "0.3787495895034778"
      ]
     },
     "execution_count": 11,
     "metadata": {},
     "output_type": "execute_result"
    }
   ],
   "source": [
    "np.random.rand()"
   ]
  },
  {
   "cell_type": "code",
   "execution_count": 12,
   "metadata": {
    "colab": {
     "base_uri": "https://localhost:8080/"
    },
    "executionInfo": {
     "elapsed": 7,
     "status": "ok",
     "timestamp": 1761620846208,
     "user": {
      "displayName": "Cesar Cuela",
      "userId": "12195114202184066508"
     },
     "user_tz": 300
    },
    "id": "Lo67M4ZayMjX",
    "outputId": "5867421f-3132-41ed-b058-1e962ba5d98a"
   },
   "outputs": [
    {
     "data": {
      "text/plain": [
       "array([0.38993326, 0.59895609, 0.57062743, 0.26444353])"
      ]
     },
     "execution_count": 12,
     "metadata": {},
     "output_type": "execute_result"
    }
   ],
   "source": [
    "np.random.rand(4)"
   ]
  },
  {
   "cell_type": "code",
   "execution_count": 13,
   "metadata": {
    "colab": {
     "base_uri": "https://localhost:8080/"
    },
    "executionInfo": {
     "elapsed": 21,
     "status": "ok",
     "timestamp": 1761620866805,
     "user": {
      "displayName": "Cesar Cuela",
      "userId": "12195114202184066508"
     },
     "user_tz": 300
    },
    "id": "Jd0AmbH9yPz5",
    "outputId": "6be83aee-7563-4717-a50a-faf8a08b5d35"
   },
   "outputs": [
    {
     "data": {
      "text/plain": [
       "array([[ 5, 34, 35, 10, 14, 50,  3,  3, 56, 35],\n",
       "       [42, 67, 26, 40, 83, 19, 77, 84, 31, 98],\n",
       "       [51, 93, 26, 31, 60, 89, 83, 33, 17, 55],\n",
       "       [92, 74, 50, 19, 64, 75, 89, 94, 23, 67],\n",
       "       [64, 63, 82, 14,  4, 14, 92,  5, 30,  4],\n",
       "       [20, 68, 90,  6, 61, 30, 24, 72, 21, 95],\n",
       "       [70, 49, 80, 86, 60, 68, 72, 90, 38, 13],\n",
       "       [14, 83, 64, 75, 17, 56,  5, 61, 17, 28],\n",
       "       [ 9, 20, 33, 23, 43, 40, 12, 36, 17, 50],\n",
       "       [91, 52, 97, 88, 78, 15, 82, 23, 62, 90]])"
      ]
     },
     "execution_count": 13,
     "metadata": {},
     "output_type": "execute_result"
    }
   ],
   "source": [
    "np.random.randint(1,100,(10,10))"
   ]
  }
 ],
 "metadata": {
  "colab": {
   "authorship_tag": "ABX9TyP4JhZ+mxyB3WpQZPdUN+tY",
   "provenance": []
  },
  "kernelspec": {
   "display_name": "Python 3",
   "name": "python3"
  },
  "language_info": {
   "name": "python"
  }
 },
 "nbformat": 4,
 "nbformat_minor": 0
}
