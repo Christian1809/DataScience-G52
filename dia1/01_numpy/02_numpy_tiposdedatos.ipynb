{
  "nbformat": 4,
  "nbformat_minor": 0,
  "metadata": {
    "colab": {
      "provenance": []
    },
    "kernelspec": {
      "name": "python3",
      "display_name": "Python 3"
    },
    "language_info": {
      "name": "python"
    }
  },
  "cells": [
    {
      "cell_type": "markdown",
      "source": [
        "# Tipos de datos en numpy"
      ],
      "metadata": {
        "id": "VkZyZw3asCe0"
      }
    },
    {
      "cell_type": "code",
      "execution_count": null,
      "metadata": {
        "id": "sYdokY7yrxgW"
      },
      "outputs": [],
      "source": [
        "import numpy as np"
      ]
    },
    {
      "cell_type": "code",
      "source": [
        "arr = np.array([1,2,3,4,5,6,7,8,9])\n",
        "arr"
      ],
      "metadata": {
        "colab": {
          "base_uri": "https://localhost:8080/"
        },
        "id": "nmkIVMFFsN96",
        "outputId": "be39a3d1-c671-4e44-be54-39d3ff85ef1a"
      },
      "execution_count": null,
      "outputs": [
        {
          "output_type": "execute_result",
          "data": {
            "text/plain": [
              "array([1, 2, 3, 4, 5, 6, 7, 8, 9])"
            ]
          },
          "metadata": {},
          "execution_count": 2
        }
      ]
    },
    {
      "cell_type": "markdown",
      "source": [
        "# para ver el tipo de datos del array"
      ],
      "metadata": {
        "id": "Q5QxuDNLsTgN"
      }
    },
    {
      "cell_type": "code",
      "source": [
        "arr.dtype"
      ],
      "metadata": {
        "colab": {
          "base_uri": "https://localhost:8080/"
        },
        "id": "nnIFWvEysVVr",
        "outputId": "039bd4e6-f6f7-4c6e-c6ac-42460934d99b"
      },
      "execution_count": null,
      "outputs": [
        {
          "output_type": "execute_result",
          "data": {
            "text/plain": [
              "dtype('int64')"
            ]
          },
          "metadata": {},
          "execution_count": 3
        }
      ]
    },
    {
      "cell_type": "markdown",
      "source": [
        "#creamos un array y le pasamos el tipo de dato"
      ],
      "metadata": {
        "id": "1nf1hrDUsZ-J"
      }
    },
    {
      "cell_type": "code",
      "source": [
        "arr_float = np.array([1,2,3,4,5,6,7,8,9], dtype='float64')\n",
        "arr_float"
      ],
      "metadata": {
        "colab": {
          "base_uri": "https://localhost:8080/"
        },
        "id": "5wH68GMBsdNb",
        "outputId": "a3572d63-0a58-4e59-df4c-eb40a3a3594d"
      },
      "execution_count": null,
      "outputs": [
        {
          "output_type": "execute_result",
          "data": {
            "text/plain": [
              "array([1., 2., 3., 4., 5., 6., 7., 8., 9.])"
            ]
          },
          "metadata": {},
          "execution_count": 4
        }
      ]
    },
    {
      "cell_type": "code",
      "source": [
        "type(arr_float)"
      ],
      "metadata": {
        "colab": {
          "base_uri": "https://localhost:8080/"
        },
        "id": "YYVCRsH8smTx",
        "outputId": "0a0269e4-6edc-424e-bbf8-06d7a0a33bd3"
      },
      "execution_count": null,
      "outputs": [
        {
          "output_type": "execute_result",
          "data": {
            "text/plain": [
              "numpy.ndarray"
            ]
          },
          "metadata": {},
          "execution_count": 5
        }
      ]
    },
    {
      "cell_type": "code",
      "source": [
        "arr_float.dtype"
      ],
      "metadata": {
        "colab": {
          "base_uri": "https://localhost:8080/"
        },
        "id": "w4nr7T0Csrmf",
        "outputId": "33424b09-fea4-48fb-ea6f-e4889a75544a"
      },
      "execution_count": null,
      "outputs": [
        {
          "output_type": "execute_result",
          "data": {
            "text/plain": [
              "dtype('float64')"
            ]
          },
          "metadata": {},
          "execution_count": 6
        }
      ]
    },
    {
      "cell_type": "markdown",
      "source": [
        "# CONVERTIR TIPOS DE DATOS"
      ],
      "metadata": {
        "id": "aiotR70IswWK"
      }
    },
    {
      "cell_type": "code",
      "source": [
        "arr = np.array([1,0,3,4])\n",
        "arr_bool = arr.astype(np.bool_)\n",
        "arr_bool"
      ],
      "metadata": {
        "colab": {
          "base_uri": "https://localhost:8080/"
        },
        "id": "YQ0D3QWhszBZ",
        "outputId": "724e7d4e-5ff2-431f-f351-dbae4ab83cae"
      },
      "execution_count": null,
      "outputs": [
        {
          "output_type": "execute_result",
          "data": {
            "text/plain": [
              "array([ True, False,  True,  True])"
            ]
          },
          "metadata": {},
          "execution_count": 7
        }
      ]
    },
    {
      "cell_type": "code",
      "source": [
        "arr.dtype"
      ],
      "metadata": {
        "colab": {
          "base_uri": "https://localhost:8080/"
        },
        "id": "XwYH1seQtOZq",
        "outputId": "94dc18c3-4419-4311-8180-c64eaa0a3961"
      },
      "execution_count": null,
      "outputs": [
        {
          "output_type": "execute_result",
          "data": {
            "text/plain": [
              "dtype('int64')"
            ]
          },
          "metadata": {},
          "execution_count": 8
        }
      ]
    },
    {
      "cell_type": "code",
      "source": [
        "arr_str = arr.astype(np.bytes_)\n",
        "arr_str"
      ],
      "metadata": {
        "colab": {
          "base_uri": "https://localhost:8080/"
        },
        "id": "HX3XXvUetQYj",
        "outputId": "d7e8b8e1-b4dc-459c-d3dd-479e4c341419"
      },
      "execution_count": null,
      "outputs": [
        {
          "output_type": "execute_result",
          "data": {
            "text/plain": [
              "array([b'1', b'0', b'3', b'4'], dtype='|S21')"
            ]
          },
          "metadata": {},
          "execution_count": 10
        }
      ]
    }
  ]
}