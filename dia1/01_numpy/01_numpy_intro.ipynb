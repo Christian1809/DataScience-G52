{
  "nbformat": 4,
  "nbformat_minor": 0,
  "metadata": {
    "colab": {
      "provenance": []
    },
    "kernelspec": {
      "name": "python3",
      "display_name": "Python 3"
    },
    "language_info": {
      "name": "python"
    }
  },
  "cells": [
    {
      "cell_type": "markdown",
      "source": [
        "## 📊 ¿Qué es NumPy?\n",
        "\n",
        "**NumPy** (Numerical Python) es una librería fundamental para el análisis de datos y la computación científica en **Python**.  \n",
        "Proporciona soporte para **arreglos (arrays) multidimensionales** y una amplia colección de funciones matemáticas optimizadas para operar sobre ellos de manera eficiente.\n",
        "\n",
        "### 🔍 Características principales\n",
        "- Soporte para **arrays y matrices** n-dimensionales.\n",
        "- Operaciones matemáticas y estadísticas rápidas (suma, media, desviación, etc.).\n",
        "- Integración con otras librerías de análisis de datos como **Pandas**, **Matplotlib** y **SciPy**.\n",
        "- Mejor rendimiento que las listas tradicionales de Python gracias a su implementación en **C**.\n"
      ],
      "metadata": {
        "id": "RgCJNNSsoHvm"
      }
    },
    {
      "cell_type": "markdown",
      "source": [
        "# instalación e importación de numpy"
      ],
      "metadata": {
        "id": "WLnjrsAzoUi0"
      }
    },
    {
      "cell_type": "code",
      "source": [
        "!pip install numpy"
      ],
      "metadata": {
        "id": "qniZ5TpoouYa"
      },
      "execution_count": null,
      "outputs": []
    },
    {
      "cell_type": "code",
      "source": [
        "!pip freeze"
      ],
      "metadata": {
        "id": "iBKN9KgGowfg"
      },
      "execution_count": null,
      "outputs": []
    },
    {
      "cell_type": "markdown",
      "source": [
        "# importar numpy y ver la versión"
      ],
      "metadata": {
        "id": "5PeADtAppPBk"
      }
    },
    {
      "cell_type": "code",
      "source": [
        "import numpy as np\n",
        "np.__version__"
      ],
      "metadata": {
        "colab": {
          "base_uri": "https://localhost:8080/",
          "height": 36
        },
        "id": "xqT6QPUHo530",
        "outputId": "5ecd8bc4-0c1d-4ec9-ca37-da6174dd3c82"
      },
      "execution_count": null,
      "outputs": [
        {
          "output_type": "execute_result",
          "data": {
            "text/plain": [
              "'2.0.2'"
            ],
            "application/vnd.google.colaboratory.intrinsic+json": {
              "type": "string"
            }
          },
          "metadata": {},
          "execution_count": 5
        }
      ]
    },
    {
      "cell_type": "markdown",
      "source": [
        "# ver documentación y ayuda rapida"
      ],
      "metadata": {
        "id": "7s5i65_QpRE8"
      }
    },
    {
      "cell_type": "code",
      "source": [
        "help(np)"
      ],
      "metadata": {
        "id": "q4dZPTzbpTi-"
      },
      "execution_count": null,
      "outputs": []
    },
    {
      "cell_type": "markdown",
      "source": [
        "## 🧩 Diferencia entre una Lista de Python y un Array de NumPy\n",
        "\n",
        "Aunque las **listas** y los **arrays de NumPy** pueden parecer similares, existen diferencias importantes en su estructura, velocidad y funcionalidad.\n",
        "\n",
        "| Característica | Lista de Python | Array de NumPy |\n",
        "|----------------|----------------|----------------|\n",
        "| **Tipo de datos** | Puede contener diferentes tipos (números, texto, booleanos, etc.) | Todos los elementos deben ser del **mismo tipo** (int, float, etc.) |\n",
        "| **Velocidad** | Más lenta (no está optimizada para cálculos numéricos) | Mucho más rápida gracias a que está implementada en **C** |\n",
        "| **Operaciones matemáticas** | No soporta operaciones vectorizadas directamente | Permite operaciones matemáticas **elemento a elemento** |\n",
        "| **Uso de memoria** | Ocupa más memoria | Usa menos memoria y es más eficiente |\n",
        "| **Dimensiones** | Generalmente unidimensional (listas dentro de listas para más dimensiones) | Soporta **n dimensiones** fácilmente (`ndarray`) |\n"
      ],
      "metadata": {
        "id": "C5B5W3TtpiaC"
      }
    },
    {
      "cell_type": "code",
      "source": [
        "# lista de python\n",
        "lista = [1,2,3,4,5]\n",
        "type(lista)"
      ],
      "metadata": {
        "colab": {
          "base_uri": "https://localhost:8080/"
        },
        "id": "XrYDn03Mp0ts",
        "outputId": "222fdc36-a666-4791-df38-6dd709df6ace"
      },
      "execution_count": null,
      "outputs": [
        {
          "output_type": "execute_result",
          "data": {
            "text/plain": [
              "list"
            ]
          },
          "metadata": {},
          "execution_count": 7
        }
      ]
    },
    {
      "cell_type": "code",
      "source": [
        "array = np.array([1,2,3,4,5])\n",
        "type(array)"
      ],
      "metadata": {
        "colab": {
          "base_uri": "https://localhost:8080/"
        },
        "id": "uywJjYj_p7YR",
        "outputId": "eca47d5e-9c4a-4ba0-f0f1-82d440231efe"
      },
      "execution_count": null,
      "outputs": [
        {
          "output_type": "execute_result",
          "data": {
            "text/plain": [
              "numpy.ndarray"
            ]
          },
          "metadata": {},
          "execution_count": 8
        }
      ]
    },
    {
      "cell_type": "code",
      "source": [
        "# Intentemos multiplicar por 2\n",
        "print(\"Lista * 2:\", lista * 2)   # Repite la lista\n",
        "print(\"Array * 2:\", array * 2)   # Multiplica cada elemento"
      ],
      "metadata": {
        "colab": {
          "base_uri": "https://localhost:8080/"
        },
        "id": "-g79bkz-qGTI",
        "outputId": "e9c2b80e-bb56-4489-cba2-153aea7f97a7"
      },
      "execution_count": null,
      "outputs": [
        {
          "output_type": "stream",
          "name": "stdout",
          "text": [
            "Lista * 2: [1, 2, 3, 4, 5, 1, 2, 3, 4, 5]\n",
            "Array * 2: [ 2  4  6  8 10]\n"
          ]
        }
      ]
    },
    {
      "cell_type": "markdown",
      "source": [
        "# CONVERTIR LISTA EN ARRAY DE NUMPY"
      ],
      "metadata": {
        "id": "1RKBh5XNqbJO"
      }
    },
    {
      "cell_type": "code",
      "source": [
        "# Crear una lista en Python\n",
        "lista = [10, 20, 30, 40, 50]\n",
        "\n",
        "# Convertir la lista a un array de NumPy\n",
        "array = np.array(lista)\n",
        "\n",
        "# Mostrar resultados\n",
        "print(\"Lista original:\", lista)\n",
        "print(\"Array de NumPy:\", array)\n",
        "print(\"Tipo de lista:\", type(lista))\n",
        "print(\"Tipo de array:\", type(array))"
      ],
      "metadata": {
        "colab": {
          "base_uri": "https://localhost:8080/"
        },
        "id": "jRVkur9UqdRB",
        "outputId": "fc12f5a2-b8fb-4b8e-93d8-a282641b41df"
      },
      "execution_count": null,
      "outputs": [
        {
          "output_type": "stream",
          "name": "stdout",
          "text": [
            "Lista original: [10, 20, 30, 40, 50]\n",
            "Array de NumPy: [10 20 30 40 50]\n",
            "Tipo de lista: <class 'list'>\n",
            "Tipo de array: <class 'numpy.ndarray'>\n"
          ]
        }
      ]
    }
  ]
}